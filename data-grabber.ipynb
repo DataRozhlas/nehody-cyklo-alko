{
 "cells": [
  {
   "cell_type": "code",
   "execution_count": 1,
   "metadata": {
    "collapsed": true
   },
   "outputs": [],
   "source": [
    "import pandas as pd\n",
    "import matplotlib.pyplot as plt\n",
    "import numpy as np\n",
    "import datetime\n",
    "%matplotlib inline\n",
    "import arcpy"
   ]
  },
  {
   "cell_type": "code",
   "execution_count": 2,
   "metadata": {
    "collapsed": true
   },
   "outputs": [],
   "source": [
    "arcpy.env.workspace = './data/cyklo_alko.gdb/'\n",
    "arcpy.env.overwriteOutput = True"
   ]
  },
  {
   "cell_type": "code",
   "execution_count": 2,
   "metadata": {
    "collapsed": true
   },
   "outputs": [],
   "source": [
    "data = pd.read_csv(r'../nehody-chodci/scratch/nehody_all.csv')"
   ]
  },
  {
   "cell_type": "code",
   "execution_count": 3,
   "metadata": {
    "collapsed": false
   },
   "outputs": [
    {
     "data": {
      "text/plain": [
       "Index(['X', 'Y', 'id', 'obec', 'datum', 'komunikace_druh', 'komunikace_cislo',\n",
       "       'zavineni', 'ridic_kategorie', 'ridic_ovlivneni', 'vinik_alkohol',\n",
       "       'ridic_stav', 'obeti_usmrceno', 'obeti_lehce', 'obeti_tezce',\n",
       "       'vozidel_celkem', 'vinik_vozidlo_znacka', 'vinik_vozidlo_po_nehode',\n",
       "       'skoda', 'unik_hmot', 'vinik_vozidlo_druh', 'vinik_vozidlo_rok_vyroby',\n",
       "       'vinik_vozidlo_vlastnik', 'vinik_skoda_na_vozidle', 'vyprosteni',\n",
       "       'nehoda_charakter', 'srazka_vozidel_druh', 'hlavni_priciny',\n",
       "       'povrch_stav', 'meteo', 'rozhled', 'nehoda_poloha', 'prednost_v_jizde',\n",
       "       'smerove_podminky', 'druh_krizujici_komunikace', 'smer_jizdy',\n",
       "       'nehoda_druh', 'pevna_prekazka_druh', 'povrch_druh', 'komunikace_stav',\n",
       "       'viditelnost', 'komunikace_deleni', 'rizeni_provozu', 'objekty',\n",
       "       'misto_nehody', 'smyk'],\n",
       "      dtype='object')"
      ]
     },
     "execution_count": 3,
     "metadata": {},
     "output_type": "execute_result"
    }
   ],
   "source": [
    "data.columns"
   ]
  },
  {
   "cell_type": "code",
   "execution_count": 5,
   "metadata": {
    "collapsed": false
   },
   "outputs": [],
   "source": [
    "alko = data[(data.vinik_vozidlo_druh == 'jízdní kolo') & (data.vinik_alkohol.str.contains('alkoholu'))]"
   ]
  },
  {
   "cell_type": "code",
   "execution_count": 6,
   "metadata": {
    "collapsed": false
   },
   "outputs": [
    {
     "name": "stderr",
     "output_type": "stream",
     "text": [
      "C:\\Anaconda3\\lib\\site-packages\\pandas\\core\\generic.py:2177: SettingWithCopyWarning: \n",
      "A value is trying to be set on a copy of a slice from a DataFrame.\n",
      "Try using .loc[row_indexer,col_indexer] = value instead\n",
      "\n",
      "See the the caveats in the documentation: http://pandas.pydata.org/pandas-docs/stable/indexing.html#indexing-view-versus-copy\n",
      "  self[name] = value\n"
     ]
    }
   ],
   "source": [
    "alko.datum = pd.to_datetime(alko.datum)"
   ]
  },
  {
   "cell_type": "code",
   "execution_count": 7,
   "metadata": {
    "collapsed": false
   },
   "outputs": [
    {
     "data": {
      "text/plain": [
       "datum\n",
       "2007-12-31    465\n",
       "2008-12-31    439\n",
       "2009-12-31    528\n",
       "2010-12-31    534\n",
       "2011-12-31    644\n",
       "2012-12-31    731\n",
       "2013-12-31    731\n",
       "2014-12-31    794\n",
       "2015-12-31    181\n",
       "Freq: A-DEC, dtype: float64"
      ]
     },
     "execution_count": 7,
     "metadata": {},
     "output_type": "execute_result"
    }
   ],
   "source": [
    "#nehody v case\n",
    "serie = pd.Series(np.ones(len(alko)), index=alko['datum'])\n",
    "serie.resample('A', how='sum')#.plot('bar')"
   ]
  },
  {
   "cell_type": "code",
   "execution_count": 8,
   "metadata": {
    "collapsed": false
   },
   "outputs": [],
   "source": [
    "alko14 = alko[(alko.datum >= '01-01-2014') & (alko.datum < '01-01-2015')]"
   ]
  },
  {
   "cell_type": "code",
   "execution_count": 9,
   "metadata": {
    "collapsed": false
   },
   "outputs": [
    {
     "data": {
      "text/plain": [
       "ano, obsah alkoholu v&nbsp;krvi 1,5‰ a více        533\n",
       "ano, obsah alkoholu v&nbsp;krvi od 1,0‰ do 1,5‰    133\n",
       "ano, obsah alkoholu v&nbsp;krvi od 0,5‰ do 0,8‰     45\n",
       "ano, obsah alkoholu v&nbsp;krvi od 0,8‰ do 1,0‰     33\n",
       "ano - obsah alkoholu v krvi 1‰ a více               30\n",
       "ano, obsah alkoholu v&nbsp;krvi do 0,99‰            18\n",
       "pod vlivem drog a alkoholu                           2\n",
       "dtype: int64"
      ]
     },
     "execution_count": 9,
     "metadata": {},
     "output_type": "execute_result"
    }
   ],
   "source": [
    "alko14.vinik_alkohol.value_counts()"
   ]
  },
  {
   "cell_type": "code",
   "execution_count": 38,
   "metadata": {
    "collapsed": false
   },
   "outputs": [
    {
     "data": {
      "text/plain": [
       "ve dne, viditelnost nezhoršená vlivem po    2995\n",
       "v noci - s veřejným osvětlením,viditelno    1087\n",
       "v noci - bez veřejného osvětlení,viditel     620\n",
       "ve dne, zhoršená viditelnost (svítání,so     136\n",
       "v noci - s veřejným osvětlením, zhoršená      91\n",
       "ve dne, zhoršená viditelnost vlivem pově      67\n",
       "v noci - bez veřejného osvětlení, vidite      51\n",
       "dtype: int64"
      ]
     },
     "execution_count": 38,
     "metadata": {},
     "output_type": "execute_result"
    }
   ],
   "source": [
    "alko.viditelnost.value_counts()"
   ]
  },
  {
   "cell_type": "code",
   "execution_count": 3,
   "metadata": {
    "collapsed": true
   },
   "outputs": [],
   "source": [
    "opravy = pd.read_excel('data/opravy_prodlouzeni.xlsx')"
   ]
  },
  {
   "cell_type": "code",
   "execution_count": 5,
   "metadata": {
    "collapsed": false
   },
   "outputs": [],
   "source": [
    "viditelnost = []\n",
    "\n",
    "for row in opravy.iterrows():\n",
    "    if row[1]['viditelnost'] not in viditelnost:\n",
    "        viditelnost.append(row[1]['viditelnost'])\n",
    "        \n",
    "viditelnost = viditelnost[0:len(viditelnost)-2]\n",
    "\n",
    "\n",
    "fc = 'cyklo_alko_tbl'\n",
    "\n",
    "cursor = arcpy.UpdateCursor(fc)\n",
    "for row in cursor:\n",
    "    old = row.getValue(\"viditelnost\")\n",
    "    for val in viditelnost:\n",
    "        if (val.startswith(old)):\n",
    "            row.setValue(\"viditelnost\", val)\n",
    "            cursor.updateRow(row)\n",
    "            continue"
   ]
  },
  {
   "cell_type": "code",
   "execution_count": 37,
   "metadata": {
    "collapsed": true
   },
   "outputs": [],
   "source": [
    "alko.to_csv('data/cyklo_alko.csv', encoding='utf-8', index=False)"
   ]
  }
 ],
 "metadata": {
  "kernelspec": {
   "display_name": "Python 3",
   "language": "python",
   "name": "python3"
  },
  "language_info": {
   "codemirror_mode": {
    "name": "ipython",
    "version": 3
   },
   "file_extension": ".py",
   "mimetype": "text/x-python",
   "name": "python",
   "nbconvert_exporter": "python",
   "pygments_lexer": "ipython3",
   "version": "3.4.3"
  }
 },
 "nbformat": 4,
 "nbformat_minor": 0
}
